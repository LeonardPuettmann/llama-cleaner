{
 "cells": [
  {
   "cell_type": "code",
   "execution_count": 1,
   "metadata": {},
   "outputs": [],
   "source": [
    "from components import process_pdfs"
   ]
  },
  {
   "cell_type": "code",
   "execution_count": 2,
   "metadata": {},
   "outputs": [],
   "source": [
    "system_prompt = \"\"\"\n",
    "Du bist ein Experte für Textbereinigung. Deine Aufgabe ist es, einen Eingabetext zu bereinigen, der aus einem PDF-Dokument extrahiert wurde. Der Inhalt ist immer nur von einer einzelnen Seite, es sollte also nicht zu viel Text auf einmal sein. Es ist sehr wichtig, dass keine Daten und Informationen verloren gehen und dass die Originaltexte in keiner Weise verändert werden!\n",
    "Antworte ausschließlich in Deutsch und keiner anderen Sprache.\n",
    "\n",
    "Du hast die folgenden Aufgaben:\n",
    "- Entferne alle seltsamen Textteile und Sonderzeichen.\n",
    "- Entferne alle unnötigen Leerzeichen und Zeilenumbrüche.\n",
    "- Organisiere die Formatierung.\n",
    "- Korrektur von Rechtschreibfehlern.\n",
    "- Handling von Formatierungsfehlern.\n",
    "\n",
    "Gib nur den bereinigten und formatierten Text zurück und nichts anderes! Füge keinen eigenen Text hinzu! Achte auf Vollständigkeit, es darf kein Inhalt verloren gehen und es muss alles 100 % vollständig sein!\n",
    "\"\"\""
   ]
  },
  {
   "cell_type": "code",
   "execution_count": 4,
   "metadata": {},
   "outputs": [
    {
     "name": "stdout",
     "output_type": "stream",
     "text": [
      "Skipping 27-1117-a839_bedingungsheft_kv-1.2024-22112023-k-a.pdf as it has already been processed.\n",
      "Skipping agb-basiskonto.pdf as it has already been processed.\n",
      "Skipping agb-depot.pdf as it has already been processed.\n",
      "Skipping agb-girokonto.pdf as it has already been processed.\n",
      "Skipping ARB_2023.pdf as it has already been processed.\n",
      "Skipping bedingungen_sondertarif_a162_10.2022.pdf as it has already been processed.\n",
      "Skipping E----0195Z0.pdf as it has already been processed.\n",
      "Skipping E----0270Z0.pdf as it has already been processed.\n",
      "Skipping generali-pflegeversicherung.pdf as it has already been processed.\n",
      "Skipping gn329301_p.pdf as it has already been processed.\n",
      "Skipping gn329401_p.pdf as it has already been processed.\n",
      "Skipping gn329404_p.pdf as it has already been processed.\n",
      "Skipping gn329531_p.pdf as it has already been processed.\n",
      "Skipping gn329551_p.pdf as it has already been processed.\n",
      "Skipping gn329554_p.pdf as it has already been processed.\n",
      "Skipping kv303_p.pdf as it has already been processed.\n",
      "Skipping kv700_p.pdf as it has already been processed.\n",
      "Skipping kv707_p.pdf as it has already been processed.\n",
      "Skipping kv720_p.pdf as it has already been processed.\n",
      "Skipping kv721_p.pdf as it has already been processed.\n",
      "Skipping kv760_p.pdf as it has already been processed.\n",
      "Skipping kv761_p.pdf as it has already been processed.\n",
      "Skipping kv790_p.pdf as it has already been processed.\n",
      "Skipping kv793_p.pdf as it has already been processed.\n",
      "Skipping PHA--1111Z0.pdf as it has already been processed.\n",
      "Skipping PKRB-4014Z0.pdf as it has already been processed.\n",
      "Skipping PRS--7001Z0.pdf as it has already been processed.\n",
      "Skipping USIPIDBasis20180118.pdf as it has already been processed.\n",
      "Skipping verbraucherinformationen-unfallschutz-basis.pdf as it has already been processed.\n",
      "Skipping versicherungsbedingungen-roland-rechtsschutz.pdf as it has already been processed.\n",
      "Skipping _bedingungen_rs_a160_tarif_2024_05.2024.pdf as it has already been processed.\n"
     ]
    },
    {
     "ename": "TypeError",
     "evalue": "cannot unpack non-iterable NoneType object",
     "output_type": "error",
     "traceback": [
      "\u001b[1;31m---------------------------------------------------------------------------\u001b[0m",
      "\u001b[1;31mTypeError\u001b[0m                                 Traceback (most recent call last)",
      "Cell \u001b[1;32mIn[4], line 1\u001b[0m\n\u001b[1;32m----> 1\u001b[0m raw, processed \u001b[38;5;241m=\u001b[39m process_pdfs(\u001b[38;5;124m\"\u001b[39m\u001b[38;5;124m./data\u001b[39m\u001b[38;5;124m\"\u001b[39m, \u001b[38;5;124m\"\u001b[39m\u001b[38;5;124m./pdfs\u001b[39m\u001b[38;5;124m\"\u001b[39m, system_prompt, mode\u001b[38;5;241m=\u001b[39m\u001b[38;5;124m'\u001b[39m\u001b[38;5;124mocr\u001b[39m\u001b[38;5;124m'\u001b[39m, page_range\u001b[38;5;241m=\u001b[39m\u001b[38;5;28;01mNone\u001b[39;00m, verbose\u001b[38;5;241m=\u001b[39m\u001b[38;5;28;01mFalse\u001b[39;00m)\n",
      "\u001b[1;31mTypeError\u001b[0m: cannot unpack non-iterable NoneType object"
     ]
    }
   ],
   "source": [
    "raw, processed = process_pdfs(\"./data\", \"./pdfs\", system_prompt, mode='ocr', page_range=None, verbose=False)"
   ]
  },
  {
   "cell_type": "code",
   "execution_count": 7,
   "metadata": {},
   "outputs": [],
   "source": [
    "import json\n",
    "\n",
    "with open('./data/gn329404_p-DONE.json', 'r') as f:\n",
    "    data = json.load(f)"
   ]
  },
  {
   "cell_type": "code",
   "execution_count": 8,
   "metadata": {},
   "outputs": [
    {
     "name": "stdout",
     "output_type": "stream",
     "text": [
      "Welche Kosten entstehen?\n",
      "\n",
      "Kosten im Zeitverlauf\n",
      "\n",
      "In den Tabellen werden Betrage dargestellt, die zur Deckung verschiedener Kostenarten von Ihrer Anlage entnommen werden. Diese Betrage hangen\n",
      "davon ab, wie viel Sie anlegen, wie lange Sie das Produkt halten und wie gut sich das Produkt entwickelt. Die hier dargestellten Beitrage veranschaulichen\n",
      "einen beispielhaften Anlagebetrag und verschiedene mégliche Anlagezeitraume.\n",
      "\n",
      "Wir haben folgende Annahmen zugrunde gelegt\n",
      "+ Bei Kiindigung nach einem Jahr wiirden Sie den angelegten Betrag zuriickerhalten (0 % Jahresrendite).\n",
      "\n",
      "Fir die anderen Halteperioden haben wir angenommen, dass sich das Produkt wie im mittleren Szenario dargestellt entwickelt.\n",
      "+ 1.000 EUR werden pro Jahr angelegt.\n",
      "\n",
      "Wenn Sie nach Wenn Sie nach Wenn Sie nach\n",
      "\n",
      "4 Jahr aussteigen 20 Jahren aussteigen 40 Jahren aussteigen\n",
      "\n",
      "Kosten insgesamt 254 EUR 3.209 EUR 7.095 EUR\n",
      "Jahrliche Auswirkungen der Kosten * 25.4 % 1,6 % pro Jahr 0,9 % pro Jahr\n",
      "\n",
      "* Diese Angaben veranschaulichen, wie die Kosten Ihre Rendite pro Jahr wahrend der Haltedauer verringem. Wenn Sie beispielsweise zum Ende der Hal-\n",
      "tedauer aussteigen, wird Ihre durchschnittliche Rendite pro Jahr voraussichtlich 1,3 % vor Kosten und 0,4 % nach Kosten betragen. Wir konnen einen Teil\n",
      "der Kosten zwischen uns und der Person aufteilen, die Ihnen das Produkt verkauft, um die fiir Sie erbrachten Dienstleistungen zu decken.\n",
      "\n",
      "Zusammensetzung der Kosten\n",
      "\n",
      "Einmalige Kosten bei Einstieg oder Ausstieg Jahrliche Auswirkungen der Kosten,\n",
      "wenn Sie nach 40 Jahren aussteigen\n",
      "Einstiegskosten Hierunter sind alle einmaligen zu Vertragsbeginn zu zahlenden Kosten zu |0,1.%\n",
      "\n",
      "verstehen. Die Kosten fiir den Vertrieb des Produkts sind darin inbegriffen.\n",
      "2,2 % der kumulierten Anlage\n",
      "\n",
      "Die Kosten, die Sie zahlen, sind in der Antage enthalten.\n",
      "\n",
      "Ausstiegskosten Auch bei einem vorzeitigen Ausstieg fallen keine zusdtzlichen Kosten an. | 0,0 %\n",
      "\n",
      "Laufende Kosten pro Jahr\n",
      "\n",
      "Verwaltungsgebiihren und Hier sind alle Kosten beriicksichtigt, die fir die Verwaltung Ihres Produkts 0,8 %\n",
      "sonstige Verwaltungs- oder und Ihrer Anlage anfallen.\n",
      "Betriebskosten\n",
      "\n",
      "8,5 % der eingezahiten Anlage\n",
      "0,3 % des Werts Ihrer Antage pro Jahr\n",
      "\n",
      "Hierbei handelt es sich um eine Schatzung auf der Grundlage der tatsachli-\n",
      "chen Kosten des letzten Jahres.\n",
      "\n",
      "Transaktionskosten Hierunter sind die Kosten zu verstehen, die beim Kauf und Verkauf der zu- | weniger als 0,1 %\n",
      "grunde liegenden Anlageoption entstehen.\n",
      "\n",
      "weniger als 0,1 % des Werts Ihrer Anlage pro Jahr\n",
      "Hierbei handelt es sich um eine Schéitzung der Kosten, die anfallen, wenn\n",
      "\n",
      "wir die zugrunde liegenden Anlagen fiir das Produkt kaufen oder verkaufen.\n",
      "Der tatschliche Betrag hangt davon ab, wie viel wir kaufen oder verkaufen.\n",
      "\n",
      "Die tatséichlichen Kosten kénnen von den oben genannten Kosten abweichen, da sie z. B. von Ihrer persénlichen Anlage oder von Ihren gewahiten\n",
      "(Anlage-)Optionen abhangen.\n",
      "\n",
      "Wie lange sollte ich die Anlage halten und kann ich vorzeitig Geld entnehmen?\n",
      "\n",
      "Empfohlene Haltedauer: 40 Jahre\n",
      "\n",
      "Sie kénnen Ihre Vertragserklarung innerhalb von 30 Tagen widerrufen. Naheres kénnen Sie den Informationen nach §§ 1 und 2 VVG-InfoV und der Wider-\n",
      "rufsbelehrung entnehmen, die Sie zusammen mit den Vertragsunterlagen erhalten.\n",
      "\n",
      "Sie haben die Méglichkeit Ihr Produkt vorzeitig zu kindigen. Zusatzliche Kosten entstehen Ihnen hierbei nicht. Informationen zur Héhe der Riickkaufswerte\n",
      "bei vorzeitiger Kiindigung finden Sie in der Garantiewerttabelle, die Ihnen zusammen mit den librigen Vertragsunterlagen ausgehdndigt wird.\n",
      "\n",
      "Wie kann ich mich beschweren?\n",
      "\n",
      "Falls Sie sich diber das Produkt, den Vermittler oder das Versicherungsunternehmen beschweren méchten, kénnen Sie unsere Hotline unter 0911 531-0\n",
      "anrufen. Sie kénnen die Beschwerde auch iiber unsere Internetseite www.nuernberger.de/kontakt, per Brief (NURNBERGER Lebensversicherung AG,\n",
      "OstendstraBe 100, 90334 Niimberg) oder per E-Mail an info@nuemberger.de bei uns einreichen.\n",
      "\n",
      "Sonstige zweckdienliche Angaben\n",
      "\n",
      "Weitere Informationen kénnen Sie dem fir Sie erstellten Angebot entnehmen.\n",
      "Bei Vertragsabschluss erhalten Sie noch weitere Dokumente auf die Sie gesetzlichen Anspruch haben: Versicherungsschein, Informationen nach VVG-\n",
      "InfoV, Allgemeine Versicherungsbedingungen und Allgemeine Steuerhinweise.\n",
      "\n",
      "Seite 3\n",
      "\n",
      "----\n"
     ]
    },
    {
     "ename": "IndexError",
     "evalue": "list index out of range",
     "output_type": "error",
     "traceback": [
      "\u001b[1;31m---------------------------------------------------------------------------\u001b[0m",
      "\u001b[1;31mIndexError\u001b[0m                                Traceback (most recent call last)",
      "Cell \u001b[1;32mIn[8], line 5\u001b[0m\n\u001b[0;32m      3\u001b[0m \u001b[38;5;28mprint\u001b[39m(data[\u001b[38;5;124m\"\u001b[39m\u001b[38;5;124mocr_results\u001b[39m\u001b[38;5;124m\"\u001b[39m][page])\n\u001b[0;32m      4\u001b[0m \u001b[38;5;28mprint\u001b[39m(\u001b[38;5;124m\"\u001b[39m\u001b[38;5;124m----\u001b[39m\u001b[38;5;124m\"\u001b[39m)\n\u001b[1;32m----> 5\u001b[0m \u001b[38;5;28mprint\u001b[39m(\u001b[43mdata\u001b[49m\u001b[43m[\u001b[49m\u001b[38;5;124;43m\"\u001b[39;49m\u001b[38;5;124;43mcleaned_pages\u001b[39;49m\u001b[38;5;124;43m\"\u001b[39;49m\u001b[43m]\u001b[49m\u001b[43m[\u001b[49m\u001b[43mpage\u001b[49m\u001b[43m]\u001b[49m)\n",
      "\u001b[1;31mIndexError\u001b[0m: list index out of range"
     ]
    }
   ],
   "source": [
    "page = 2\n",
    "\n",
    "print(data[\"ocr_results\"][page])\n",
    "print(\"----\")\n",
    "print(data[\"cleaned_pages\"][page])"
   ]
  },
  {
   "cell_type": "code",
   "execution_count": null,
   "metadata": {},
   "outputs": [],
   "source": []
  }
 ],
 "metadata": {
  "kernelspec": {
   "display_name": "Python 3",
   "language": "python",
   "name": "python3"
  },
  "language_info": {
   "codemirror_mode": {
    "name": "ipython",
    "version": 3
   },
   "file_extension": ".py",
   "mimetype": "text/x-python",
   "name": "python",
   "nbconvert_exporter": "python",
   "pygments_lexer": "ipython3",
   "version": "3.12.6"
  }
 },
 "nbformat": 4,
 "nbformat_minor": 2
}
